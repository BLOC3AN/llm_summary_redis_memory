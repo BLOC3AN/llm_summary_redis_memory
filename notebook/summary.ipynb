{
 "cells": [
  {
   "cell_type": "code",
   "execution_count": 15,
   "id": "b63d3926",
   "metadata": {},
   "outputs": [
    {
     "name": "stderr",
     "output_type": "stream",
     "text": [
      "2025-07-14 10:25:58,476 - src.utils.redis_client - INFO - ✅ ✅ Connected to Redis: True\n",
      "2025-07-14 10:25:58,482 - src.utils.redis_client - INFO - ✅ ✅ Redis connection: True\n",
      "2025-07-14 10:25:58,490 - src.utils.redis_client - INFO - ✅ 📋 Redis keys: ['memory:IUf4eLFXW8q72t8pAAAB', 'memory:promptfoo-test-session-823207f7-c471-4fc9-a6aa-2277ea5a7f52', 'memory:YuIgxUbJicq1X7gAAAAD', 'memory:promptfoo-test-session-342883a5-2adb-4c3a-8ee1-bf8ae045f8f9', 'memory:rI_eB5yruJkj5fy_AAAF', 'memory:promptfoo-test-session-cfcc57df-d8e8-4b6a-8d25-5abc5bb0704d', 'memory:Z1hqAIsDkd4gs0hAAABw', 'memory:O2mE2_QSPfwnYC0uAAAD', 'memory:6IlTwKyMwI-V0bDIAAAB', 'memory:IOLGVvZzEaiqpcrJAAAD', 'memory:vnydPWFTT_lZkzpCAAAD', 'memory:promptfoo-test-session-515366c4-09be-4ee7-84a6-c3af1cb23a15', 'memory:promptfoo-test-session-da830615-84c4-4dfd-9ec5-daf81ababbcb', 'memory:c_ShT4NdzlOSkf5yAAAB', 'memory:UKUw4Lcq2CKL0jJjAAAF', 'memory:j5MEsqcf7kXIso6nAAAL', 'memory:promptfoo-test-session-0fc6a8a7-171d-4f39-ae8a-196f89f4ba60', 'memory:T-3CZZjnhs2YjPK7AAAF', 'memory:R9rCJGzmx1iMhML9AAAT', 'memory:GUJxdinc3AQa9n_FAAAD', 'memory:G8yiOrF9x14DDFL8AAAx', 'memory:pfc9TdzZ1Yv1-r9FAAAB', 'memory:promptfoo-test-session-7c0d2054-9dba-490e-877c-c3b00ba93b2a', 'memory:promptfoo-test-session-4', 'memory:LrZDqnh_cHV4hhX7AAAF', 'memory:heLHppkHohFqTkikAAAP', 'memory:Dp4BbDxSvR1X8SV_AACE', 'memory:promptfoo-test-session-9b7343c9-1022-41e2-95f5-6b45dbe64662', 'memory:SacOoenDv0nKB7wwAAAF', 'memory:4Sd-H35BmxL_2xUSAAAX', 'memory:7L_OlPwMb6yOVN8DAAAD', 'memory:WJNKxM9p5HtDz0fLAACp', 'memory:njatZ8qVuZ03jLtkAAAN', 'memory:WvHKufhZfftOWudbAAAd', 'memory:GqRU9afGeG83n82LAAAB', 'memory:promptfoo-test-session-2cccac22-9d3e-43bf-84c7-c35f67e87fab', 'memory:FRTkeBK34C3SdOOsAAAB', 'memory:5zkTP7EOBMAkhUi9AAAB', 'memory:promptfoo-test-session-7d37a1fe-bcf3-4841-893a-6e7cafcdc5c3', 'memory:NMUa9rsPLiUTuidwAAAB', 'memory:Xgt-KrBx-_veYWS9AAAB', 'memory:test', 'memory:udyj0XJaxdKsKFjfAAAD', 'memory:promptfoo-test-session-2f474b6a-8d01-4e10-b7e6-d9556ba17cad', 'memory:O5OWDRtqSBdzbz7aAAA8', 'memory:g2XOnMigSCqGVMs8AAAH', 'memory:promptfoo-test-session-40b841b1-67bd-4268-b8bf-5f7123988271', 'memory:iCsmXjzuidL4aQVfAAAF', 'memory:promptfoo-test-session-fc338ebc-b3ca-4472-9b23-1c864d5262d2', 'memory:cuKaIJ6dIDFXMFEKAAAP', 'memory:CMpeGqJ8rPpK9DKrAACH', 'memory:wOfVOvee392RAwJxAABw', 'memory:7dkZv7-4dLu2M_3OAAAP', 'memory:53wqReiD221iXDzCAAAD', 'memory:promptfoo-test-session-2a1e9ed0-603a-4802-a1b6-fd2c9726ae24', 'memory:promptfoo-test-session-3', 'memory:promptfoo-test-session-fd55fc0d-032f-4523-9413-9b3e8aa07120', 'memory:57hlKgFY5vmRLA7gAAAl', 'memory:promptfoo-test-session-bf7e9ddf-15db-4403-9944-35eef776e564', 'memory:4vwLXMpEf6LIl2K0AAAF', 'memory:promptfoo-test-session-ddb86426-42a5-4cc1-a66f-e5260dc65667', 'memory:MU3PZCx4Ogoqgp12AAAr', 'memory:ezqhrwlg67T-6ocNAAAR', 'memory:mU1E2x6F_TbytwwiAAA0', 'memory:9NHyDswOya0CkQhqAAAH', 'memory:rGGMuIUJ9v8188U4AAAB', 'memory:i1ExpUkMh4WDOZjDAAAD', 'memory:OV7x9j7S_cp23cgTAAAJ', 'memory:promptfoo-test-session-bddf973a-fc70-461d-a0f0-16591f463189', 'memory:0Br6YeeK9bQ-m1_YAABn', 'memory:promptfoo-test-session-f8fa1149-7f8b-497c-9230-592770bcbc26', 'memory:PrGGpqWMtWWGuUwgAAAB', 'memory:promptfoo-test-session-42a63b29-fd46-40dd-9f7a-06cf5b31b79b', 'memory:r7iXw99prS9ZeqdfAAAH', 'memory:W8wUALzfibFFP3LOAAAF', 'memory:RApuhBmIxFrgLRvrAAC6', 'memory:oO3yeA60uX3U3GtMAACJ', 'memory:pE0CN9tLdfaPdorKAACS', 'memory:promptfoo-test-session-12f25736-7e71-437f-8b5c-84901ca46096', 'memory:jJc-qG2X-Tx-N4k7AAAL', 'memory:hz66ymJMVNhk8-4bAAAB', 'memory:II8ic8ZDl2iLlAbJAABu', 'memory:22UT80OgDhAoQfBUAAAF', 'memory:IjB77Zz_d2Mui356AABX', 'memory:promptfoo-test-session-a6068d0e-c3fa-4e54-932c-c76d0a9ce05f', 'memory:Gxy06sRO4IyhfAjgAAAB', 'memory:6cYXPjhslKFBYDngAAAs', 'memory:7sN5QOJhdMsxpnaFAAAN', 'memory:9oNbDyF6FmWTSbNIAAAB', 'memory:promptfoo-test-session-1', 'memory:MYJzqpTmMappaimcAAAF', 'memory:YgmiLvYCQF-vYUVSAAAB', 'memory:XTIjRxTnhqdmaWjaAADL', 'memory:h4jFPatfUhR61jhXAAAT', 'memory:QkdZ7artgIjwBUpTAAAB', 'memory:zc_TjANtZaljhbZ5AAAB', 'memory:promptfoo-test-session-ff188cd1-38a7-49a0-acbb-372a63217e48', 'memory:9oXETPswQBPsaOMhAAAB', 'memory:eYaupphdwsv59THNAAAB', 'memory:vd58544mUHFG0PF_AAAD', 'memory:U5svXACcGpT_3fXpAAAH', 'memory:NwXAgT9kYOL9fi7QAAAB', 'memory:promptfoo-test-session-260924ec-072a-4367-86c4-40aa4c2087fb', 'memory:promptfoo-test-session-9dcfd97e-19e2-4d69-9fa2-e57d8bedf1e3', 'memory:promptfoo-test-session-4fb8b20b-1ce9-4ec2-87b4-c4dedbe6fb5a', 'memory:oXJYdlIjct8uz6cLAAAH', 'memory:27RiJch76c0cdz3MAAAD', 'memory:-VD9xq7sdbHTII8fAAAB', 'memory:CAYl3Le6YY2cHBEZAAAB', 'memory:8KKNkBGB8YQ4zLDFAAAF', 'memory:cWhFZlHjyKINgfeEAAAD', 'memory:9-JerODwnJr7Zw8kAADG', 'memory:VxA1WE4hjWuGLH4cAAAD', 'memory:VfU83aqLeoZ3Rf5yAACw', 'memory:Sooc2LhCdl9or5msAAAR', 'memory:promptfoo-test-session-3bd51727-6b86-4c56-9374-d64660c4ef3f', 'memory:mC7jsGb4gR4yOL09AABE', 'memory:TPnIEeC2mRD7zq7xAACC', 'memory:promptfoo-test-session-08c64260-3637-42ad-9be1-0d014187e08c', 'memory:25dXbZNNEqwoFfZXAAAD', 'memory:promptfoo-test-session-d6e1e8ad-5a90-4ed3-96f4-a717c9f76436', 'memory:iqLjRu4Dx9mmx5ZnAAAB', 'memory:promptfoo-test-session-da84bfe2-c726-45e5-95b7-55c0e29eb2cf', 'memory:Zg-Bw8_4OKSI0ypIAAB6', 'memory:promptfoo-test-session-051ac134-9a54-45bc-a6b6-748e80f9936d', 'memory:_c45OtP5yOS7vCQ_AAAX', 'memory:rCaQdiXbpTV4uVpLAAAB', 'memory:0x9eTuhBxVdURv7BAACa', 'memory:PqwfvgQ7F5ShXliJAAAH', 'memory:promptfoo-test-session-48c2289b-ce0b-400a-9aa5-4001b649fb50', 'memory:promptfoo-test-session-5522b86c-54b4-42bc-b575-817dffa4f7e7', 'memory:promptfoo-test-session-4f8cc946-e3e2-4749-89ef-4323d1c86c68', 'memory:MY7gmFyCNxwAkZL0AAAG', 'memory:M3tDoSqQLcpvZocBAADU', 'memory:WjU_ZgXRYCXeK1onAAAB', 'memory:promptfoo-test-session-453ad180-9239-4aaf-9e05-73bedc0aa95c', 'memory:xlzQVNTy5AhsIayHAACy', 'memory:zLtTp0hWmfkw8wjmAAAF', 'memory:G1hkAduXA8Bf6ZXRAAAH', 'memory:promptfoo-test-session-df8abf6a-e7ca-48c1-908e-5fd0111d91e3', 'memory:cjHtuLVO3JB3dvn3AAAm', 'memory:gVovz4Yrp2by0_owAAAB', 'memory:-mtujRDuHQzBpQHBAAAB', 'memory:qbxmy2RORr4Rv8PUAAAX', 'memory:IVdOIH3tev747PbKAAAJ', 'memory:ixgZhLOybvQTpM58AAAB', 'memory:qhdtQFtP8ZdrgsuMAABb', 'memory:hj6rUG-GbEnMVkmmAAAB', 'memory:x2plljnezd6PwlFiAAAB', 'memory:promptfoo-test-session-6f469f32-ea69-4f1b-8b2f-7ae9de091b51', 'memory:uf-3hS_G2gHpqEqiAAAX', 'memory:promptfoo-test-session-14b27afd-4bc1-42f0-974d-2060fc720be1', 'memory:VK7ttZ5gMBLEFkcFAAAB', 'memory:Pt9lizOA72UGKa9dAAA2', 'memory:K2kaD0ktk5dY1qitAAA2', 'memory:ZfvXYZCsMkC9slbzAAAD', 'memory:9IP_nmJzaQ0Ey7w0AAAB', 'memory:promptfoo-test-session-786e5e36-5b71-4e1a-a2f7-666a02f2f1c7', 'memory:bKM9-3HI_vwRdbs_AAAi', 'memory:EIHW7jEEzSVsQ1_7AAAG', 'memory:Km6i-Z00Qt06JBNWAAAB', 'memory:rmCqnmwJYa_sMsxSAABR', 'memory:pv08Cs5rRUrJPoBGAAAB', 'memory:promptfoo-test-session-1c570132-7487-4a93-a236-b88bf38675a0', 'memory:promptfoo-test-session-588f256b-af9e-4442-9f65-07a5f988dab6', 'memory:vAKcrdWD1g3P8pL2AAAu', 'memory:FUXu_VRu2zgmW9uaAAAH', 'memory:s5TkRPT5hdhaygfPAAAF', 'memory:VAG0OQrc9c47ShBXAABj', 'memory:qg6HhwrfhFcbefQmAAAl', 'memory:mWXxrbkongA5wI4oAACo', 'memory:xu3qmpYIfe0O9F7rAAAB', 'memory:iv6joWV1KTY7Hj_9AAAD', 'memory:5kQPm6kyMhS4TXJJAADN', 'memory:lkMrRCzkoCpi1S0HAAAF', 'memory:promptfoo-test-session-15a3d8ac-e694-499e-9e05-a6988527ebb5', 'memory:oZltFJXFFnx1LO8JAAAB', 'memory:jCQ_HAE6beUueEOwAAAL', 'memory:SP6ZZEr095CwOYxYAAC4', 'memory:vDmqmTmt1W_udRYaAAAF', 'memory:LTJYiytOGxLKl3o3AAAb', 'memory:promptfoo-test-session-8f92cfcf-e673-4a87-a3ea-b541a5c725f7', 'memory:ph5xoxQkD6wnbpgyAAAD', 'memory:promptfoo-test-session-7b548c02-b6ac-4557-8590-bfb4547ca9dd', 'memory:promptfoo-test-session-8fff46c7-4326-4d83-86c2-9ee7e920013e', 'memory:uAVpW3jdyW8JTbKDAAAD', 'memory:lRrFde5o-cYRyf7yAAAB', 'memory:A_FlrrdzGvZEKi3wAABs', 'memory:promptfoo-test-session-8e39edea-48c5-42dd-886f-de8de7b501a5', 'memory:promptfoo-test-session-8a0ca637-1c3e-43dd-9266-5dc4a6361416', 'memory:FxUMV7BC1z37yPuMAAAa', 'memory:Yf9hWpXWxc47tXI7AABp', 'memory:iFKBwui0SOR2gEtUAADA', 'memory:llxi5tYxpUWnokpPAAAN', 'memory:8FhNnQulMT9lEE7gAAAD', 'memory:promptfoo-test-session-112dd8c9-09bc-4ac6-a925-92103a52a534', 'memory:promptfoo-test-session-f6276e8c-a55e-4444-b0e1-551d771a42b3', 'memory:S1LZTFbLgUpym0pzAAAF', 'memory:s1leipfPJFrtNv5fAACT', 'memory:PRQSRc_7DdOdGJQkAACN', 'memory:promptfoo-test-session-698b5b73-1007-46ef-a1c8-27771716cfa3', 'memory:promptfoo-test-session-ac97b6dc-0948-4ed3-9f2a-c35e3231bf7b', 'memory:AGrh6JNf4MZlI0kYAACs', 'memory:D5F9C3LOLB8EMcM4AAAB', 'memory:HFp1IwB1ZlaeHoKWAAAN', 'memory:promptfoo-test-session-ed8de917-a80c-4ce1-b803-3a9639310abb', 'memory:iIF5ZHFyaaGKrG__AAAY', 'memory:aPDXVViFhwx6mEfOAABK', 'memory:promptfoo-test-session-a033d340-5877-48ba-a07f-f8072fcc8cd6', 'memory:Qy7Rdr9CIH-mawFqAAAD', 'memory:LG16kGdKY1Cj0c_aAAAB', 'memory:WckcPMnl84Al0HxGAAAB', 'memory:jYAmnNa_mJPaawQoAAAF', 'memory:promptfoo-test-session-7a9dbf05-7088-4c34-94bb-8d790dffa7bc', 'memory:JobPDWFSliqSLR4tAAAB', 'memory:eekfVmK7twovk81uAAAr', 'memory:VD9kuP7ao7FcJU9mAAAL', 'memory:o373hYq8KzSNKBhbAAA4', 'memory:p0qxEQlfagpOc3ZyAAAB', 'memory:bnDF9VcbYqm7Gc2QAAAB', 'memory:HDstdTjdkRm-tNHUAAAH', 'memory:cy7hrQf1D1ChNEqiAAAB', 'memory:n0ASyl5kvmq4G7maAAAB', 'memory:PRG60HBp5D9F-hCvAAAf', 'memory:riCj1DrE7dnXUs-TAAAB', 'memory:promptfoo-test-session-aa495168-3bd9-441a-a447-e35a3df74a0b', 'memory:promptfoo-test-session-a6d3c5f0-e319-47c6-9158-4e7b9b10efd0', 'memory:2104sRNhxdNK7rx_AAAR', 'memory:8n7yceROD2ggIjtIAADT', 'memory:dz01nv-tf7G8N9pTAAAB', 'memory:qIo-n4-z-Y7JoN7qAACO', 'memory:rxsPLSKespVvJSR_AADQ', 'memory:cMaX71OREF_Rx8odAAAD', 'memory:9WotHUK3nm8kV20zAAAI', 'memory:promptfoo-test-session-b49f5518-38f2-410b-9671-57c1f8887e4e', 'memory:b_KFVEZMrKASu5-JAAAB', 'memory:promptfoo-test-session-afb744f9-ff98-493d-b038-6b1034992269', 'memory:ZZyvUjnCNr5UyfaGAAAb', 'memory:rfQ8C2Uw-jNwB_YWAABO', 'memory:promptfoo-test-session-bdc607c1-dcab-4c1c-8d51-df2c0e208121', 'memory:7-Dv71Icai9hP2pVAAAD', 'memory:VhSXzh1R4a-tJyp_AAAJ', 'memory:promptfoo-test-session-08d0ac7b-79fd-46af-818e-b072ba9897df', 'memory:V9hRz5cFlaBvHB2xAAAB', 'memory:promptfoo-test-session-27ba1c36-4819-4fa9-bdd6-9d33428e9421', 'memory:txwG3zaZDv-oKc__AAAB', 'memory:FXf6hTW0zgIzVU8mAAAB', 'memory:promptfoo-test-session-1c23ac6d-dc93-4ecd-b5a3-dd9da1fabfb2', 'memory:FtZW1d_ImjBOzNBrAAAF', 'memory:HYb2VWNGmfoFOP9vAACi', 'memory:5EHIZJmEkRGEUeuxAABu', 'memory:promptfoo-test-session-2ddde3f7-ae9d-4a62-9d56-e804dcf79ffb', 'memory:rSwfkPgT8qDOL3BEAAAB', 'memory:promptfoo-test-session-768b34ce-838c-47d1-a079-37e1524c02f8', 'memory:JMceZwGFHJgH3517AAAB', 'memory:gModMYvnCn8Nj3D3AAAD', 'memory:E9YlYNlA-_3NgrsSAAAB', 'memory:promptfoo-test-session-86e8be39-6051-4aed-971e-261226419a7e', 'memory:u8rdEqy_PmvQLFfVAACX', 'memory:LQInIYYoYllkkww1AAAB', 'memory:promptfoo-test-session-9b068803-1587-477f-91d3-5bd6e665925e', 'memory:3h1US-GmM6bb2-YFAAAF', 'memory:H0P2VM4LkRwKtJM7AAAB', 'memory:promptfoo-test-session-9d4dbda1-5c2c-4db0-a6a1-374876226b91', 'memory:GHr83zExi3dY9Y8DAABl', 'memory:IzQg6gy8UYTYzfo8AAAB', 'memory:4jKJMex7QJ7I4T5oAAAB', 'memory:r7-Ti_6rpvao-fGpAAAa', 'memory:FbDH60PFQgVByqGzAACf', 'memory:XWD1oN3cQslLrXXNAAAB', 'memory:lDTe-iwyUWZQ8gg4AAAo', 'memory:promptfoo-test-session-d946d5f9-a2a6-4097-8ead-0b8858ce3d55', 'memory:bYTLtq6rBaxIvXQZAADP', 'memory:promptfoo-test-session-019bcf1d-2443-4971-97f6-aa16847b51ff', 'memory:fpT-3s8SvZnIOqyYAAAB', 'memory:promptfoo-test-session-48b0c491-64cc-4d66-9e7f-b91e80635136', 'memory:1q_mWiOvbrxNS-HkAACk', 'memory:xq7pawjflAaur7R5AAAB', 'memory:Ke3xv-_96KLU1roiAAAJ', 'memory:PeZjaBUnxSSfNoVXAAAD', 'memory:dXCkDCVGKhDBIElFAAAB', 'memory:promptfoo-test-session-ad2e8969-30d5-484d-a4d4-8bedd34f9647', 'memory:Bv9gkWffta8FGTYQAAAB', 'memory:promptfoo-test-session-07c8d0aa-3a3c-4e13-9b34-a62308a00419', 'memory:sQY1pV5mL0VSZs0iAAAB', 'memory:G8OmrDWHdbN6AQenAAA1', 'memory:2uGgiGD7atiMf2fPAAA-', 'memory:elTMUewJAJwMx4UPAAAY', 'memory:ebtMnF4w8f5ZDnFMAADR', 'memory:I_7YcHMth_RnRRvtAAAB', 'memory:promptfoo-test-session-0b077b43-6048-480d-800f-739b94288c97', 'memory:N1_y9-IGltRNfYGtAAAN', 'memory:RXMaVBzfkdk5xwCpAAAB', 'memory:v1SGoRtRfYg72R-oAAAB', 'memory:husagRqxwWCCjkTDAAAP', 'memory:tUrOryfG0BkRqPDoAAAF', 'memory:2Vm4bLzFwUbjHZYTAAAB', 'memory:promptfoo-test-session-30c51e85-85c8-425e-92dc-83c0f23c1245', 'memory:fSMUqBgKHB-Nmzl8AAAD', 'memory:1ChGZbaRxoCtZwBbAABf', 'memory:promptfoo-test-session-b6138925-9b57-4aa7-8580-19c73c08117b', 'memory:1j3pYkLnhbERsLgXAAAD', 'memory:I_ltmXLeS_Srhz75AAAB', 'memory:CyegtEmSn1GmGWKjAAAB', 'memory:rApAtgy297T0Q26jAAAD', 'memory:YqzuxJExF66xDyVdAAAf', 'memory:promptfoo-test-session-b40c722f-94d9-4173-829c-d7b17a931764', 'memory:quznRzyGKUGlMVIFAAAD', 'memory:GDWp1Y2prwF8UCTmAAAD', 'memory:M3C_2gs9Ea_-kfHOAAAF', 'memory:EXzGrV8DlOZg91WAAAAB', 'memory:promptfoo-test-session-0b662162-c6c9-478f-8bf7-5a2ec03a95d8', 'memory:ncj0xyLnEMUbpmxMAAAF', 'memory:gYdy0HmuBia-5y40AAAL', 'memory:paWMPI96ITB1g2kvAAAJ', 'memory:avmjN6gvwgsktrhdAAAB', 'memory:co4V6qdg9_4jduyTAAAp', 'memory:chPDGEOEwFdQPquQAAAV', 'memory:oRzP5erjkIEXzgSJAAAF', 'memory:bhblAB16QrbLDwYJAAAD', 'memory:vJwzovwBCu1ozTjOAAA6', 'memory:promptfoo-test-session-04a68a1e-38e4-4d3a-873e-a286fdb9772b', 'memory:promptfoo-test-session', 'memory:wkbXQ5ylSbugm0rlAAAP', 'memory:iTOqGCu0gH5ZqJXKAADF', 'memory:promptfoo-test-session-3652c1fa-e6ef-45d6-8822-dfc925010d93', 'memory:oQ8b4k5WKDVk4nQgAACP', 'memory:j6R3FbkUgQSw7f9oAAAR', 'memory:Js-BAz3THTdOpV9WAAAF', 'memory:promptfoo-test-session-8e988f16-4adb-4d0d-9e84-7ab0a0504eb9', 'memory:a_1EOrZeA4FAcl_9AAAB', 'memory:pcL0H5AK2IwQ9uVuAAAj', 'memory:promptfoo-test-session-e44815d3-2568-45cf-9815-13e8b36450f0', 'memory:promptfoo-test-session-77ff53aa-12d9-4da6-aa03-512cb2f546ee', 'memory:2ZqMxh-SkHWDtsp9AAAB', 'memory:rg-v7nTSEwYAIMUpAAAD', 'memory:br6Fyr_Lob3QLG2-AAAj', 'test', 'memory:UTi4EV6ZLg1H170dAAAB', 'memory:promptfoo-test-session-0eb83abd-b5ac-480f-a7de-0bdd49c037a5', 'memory:FmrNNbR58K6rd3ZHAACZ', 'memory:promptfoo-test-session-95a194e5-be0d-4139-b9bc-7ae2133707b3', 'memory:fS106XqFwTSIE0tSAAAC', 'memory:y2pp-a5utVq20ILJAAAB', 'memory:promptfoo-test-session-dd733272-9350-478e-8e83-b986f6e3f646', 'memory:GfCB0XeNTk9Ggdp2AAAg', 'memory:promptfoo-test-session-2616a5eb-e748-4dd6-a3ab-78e984f35ccd', 'memory:WJGSU6t2SyaGPWuXAAAf', 'memory:LyJpQLV_r3c2Lm1-AADK', 'memory:Qwvk-0go5NmNFNZ3AAAB', 'memory:OwXSYiW4WaUE0hcyAAAh', 'memory:promptfoo-test-session-c145dd46-79b0-418c-8348-98caeaaac27e', 'memory:promptfoo-test-session-dd6ae0d8-47f1-48b5-9422-fde41f90d1db', 'memory:3MfmU7B232vg7csEAAAo', 'memory:D4t13GZ_Id1scM1_AAAD', 'memory:promptfoo-test-session-4ac88990-f232-4af3-ac06-8ba3d1c955e2', 'memory:promptfoo-test-session-930216f6-584c-4e26-b85c-c07180c1d13e', 'memory:E1eIUmlP38N1pRQBAAAB', 'memory:qv5V9tZ80N1fApTkAAAZ', 'memory:VPXnp3kDYxXb640kAAAD', 'memory:promptfoo-test-session-68d1b2bc-012f-4c89-9a02-1cd238bfceb5', 'memory:promptfoo-test-session-d1c05c22-9fda-4d81-992f-faf0b6d3e9a3', 'memory:G8AAfcjc1YxIIZkqAAAH', 'memory:J7swxEM5k6sFW_CDAAAB', 'memory:kJwqLhPB0mZD-lsrAAAB', 'memory:promptfoo-test-session-12dc8d1b-a9f5-483d-8b03-5edc113d3635', 'memory:6Fumh7rPCLg2tqjJAACQ', 'memory:nzgU8-k37Picf56_AAAV', 'memory:S43wpXmL3yTOA8wEAAAD', 'memory:PVmfLG9Z9jyAu6a3AAAD', 'memory:SFA2lL9nRcwHIza1AAAF', 'memory:promptfoo-test-session-42604e74-15d2-486f-b621-c0f1e829bbef', 'memory:7yRqlpKl4xmcot7JAAAt', 'memory:ihp-OXW8IEsTiroSAAAB', 'memory:XKJ0uUYeG7BJmFk6AAAF', 'memory:DTWqUqua4kwIKRI-AAAe', 'memory:d_9L7XfnIDvAnCrmAAAB', 'memory:hLq3w1PFFfPCzXx2AAAF', 'memory:hc4dxBy-LDTDEiKaAAAD', 'memory:HB7E6l02X5myIch3AAAT', 'memory:diEgS-cJnVMgT7pXAAAk', 'memory:4MhROPRBw3t0aAf8AAAD']\n",
      "2025-07-14 10:25:58,495 - src.utils.redis_client - INFO - ✅ 💬 Chat history keys: []\n",
      "2025-07-14 10:25:58,500 - src.utils.redis_client - INFO - ✅ 🧠 Redis memory: {'used_memory': 2186712, 'used_memory_human': '2.09M', 'used_memory_rss': 12451840, 'used_memory_rss_human': '11.88M', 'used_memory_peak': 2210416, 'used_memory_peak_human': '2.11M', 'used_memory_peak_perc': '98.93%', 'used_memory_overhead': 1003984, 'used_memory_startup': 946160, 'used_memory_dataset': 1182728, 'used_memory_dataset_perc': '95.34%', 'allocator_allocated': 2760944, 'allocator_active': 3190784, 'allocator_resident': 18083840, 'allocator_muzzy': 0, 'total_system_memory': 404269940736, 'total_system_memory_human': '376.51G', 'used_memory_lua': 31744, 'used_memory_vm_eval': 31744, 'used_memory_lua_human': '31.00K', 'used_memory_scripts_eval': 0, 'number_of_cached_scripts': 0, 'number_of_functions': 0, 'number_of_libraries': 0, 'used_memory_vm_functions': 32768, 'used_memory_vm_total': 64512, 'used_memory_vm_total_human': '63.00K', 'used_memory_functions': 192, 'used_memory_scripts': 192, 'used_memory_scripts_human': '192B', 'maxmemory': 0, 'maxmemory_human': '0B', 'maxmemory_policy': 'noeviction', 'allocator_frag_ratio': 1.15, 'allocator_frag_bytes': 353808, 'allocator_rss_ratio': 5.67, 'allocator_rss_bytes': 14893056, 'rss_overhead_ratio': 0.69, 'rss_overhead_bytes': -5632000, 'mem_fragmentation_ratio': 5.69, 'mem_fragmentation_bytes': 10262920, 'mem_not_counted_for_evict': 0, 'mem_replication_backlog': 0, 'mem_total_replication_buffers': 0, 'mem_clients_slaves': 0, 'mem_clients_normal': 37760, 'mem_cluster_links': 0, 'mem_aof_buffer': 0, 'mem_allocator': 'jemalloc-5.3.0', 'mem_overhead_db_hashtable_rehashing': 0, 'active_defrag_running': 0, 'lazyfree_pending_objects': 0, 'lazyfreed_objects': 0}\n"
     ]
    },
    {
     "data": {
      "text/plain": [
       "True"
      ]
     },
     "execution_count": 15,
     "metadata": {},
     "output_type": "execute_result"
    }
   ],
   "source": [
    "import redis\n",
    "import os\n",
    "import sys\n",
    "sys.path.append(os.path.abspath('..'))\n",
    "from src.utils.redis_client import RedisClient\n",
    "from src.utils.logger import Logger\n",
    "logger = Logger(__name__)\n",
    "from dotenv import load_dotenv\n",
    "load_dotenv()\n",
    "\n",
    "from src.llms.openai import LLMOpenAI\n",
    "\n",
    "\n",
    "llm = LLMOpenAI()\n",
    "redis_client = RedisClient()\n",
    "redis_client.debug_redis()"
   ]
  },
  {
   "cell_type": "code",
   "execution_count": 16,
   "id": "9259d429",
   "metadata": {},
   "outputs": [
    {
     "name": "stdout",
     "output_type": "stream",
     "text": [
      "['memory:IUf4eLFXW8q72t8pAAAB', 'memory:promptfoo-test-session-823207f7-c471-4fc9-a6aa-2277ea5a7f52', 'memory:YuIgxUbJicq1X7gAAAAD', 'memory:promptfoo-test-session-342883a5-2adb-4c3a-8ee1-bf8ae045f8f9', 'memory:rI_eB5yruJkj5fy_AAAF']\n"
     ]
    }
   ],
   "source": [
    "list_keys_memory = redis_client.redis_client.keys(\"*\")\n",
    "print(list_keys_memory[:5])"
   ]
  },
  {
   "cell_type": "code",
   "execution_count": 17,
   "id": "4006f604",
   "metadata": {},
   "outputs": [
    {
     "data": {
      "text/plain": [
       "'[{\"type\": \"human\", \"content\": \"anh mu\\\\u1ed1n \\\\u0111\\\\u1eb7t l\\\\u1ecbch d\\\\u1ecdn nh\\\\u00e0 s\\\\u00e1ng th\\\\u1ee9 3 tu\\\\u1ea7n sau l\\\\u00fac 11 gi\\\\u1edd t\\\\u1ea1i S\\\\u1ed1 1 V\\\\u00f5 V\\\\u0103n Ng\\\\u00e2n Th\\\\u1ee7 \\\\u0110\\\\u1ee9c trong 2 ti\\\\u1ebfng kh\\\\u1ecfi c\\\\u1ea7n t\\\\u00ednh gi\\\\u00e1 \", \"timestamp\": \"2025-07-03T10:39:43.420762\"}, {\"type\": \"ai\", \"content\": \"T\\\\u00f4i c\\\\u00f3 th\\\\u1ec3 gi\\\\u00fap anh \\\\u0111\\\\u1eb7t l\\\\u1ecbch d\\\\u1ecdn nh\\\\u00e0. \\\\u0110\\\\u1ec3 ho\\\\u00e0n t\\\\u1ea5t vi\\\\u1ec7c n\\\\u00e0y, t\\\\u00f4i c\\\\u1ea7n bi\\\\u1ebft th\\\\u00eam m\\\\u1ed9t v\\\\u00e0i th\\\\u00f4ng tin. Anh c\\\\u00f3 th\\\\u1ec3 cho t\\\\u00f4i bi\\\\u1ebft th\\\\u1ee9 Ba tu\\\\u1ea7n sau l\\\\u00e0 ng\\\\u00e0y m\\\\u1ea5y kh\\\\u00f4ng \\\\u1ea1?\", \"timestamp\": \"2025-07-03T10:39:43.420779\"}, {\"type\": \"human\", \"content\": \"t\\\\u1ef1 t\\\\u00ednh \\\\u0111i \", \"timestamp\": \"2025-07-03T10:39:43.420786\"}, {\"type\": \"ai\", \"content\": \"Th\\\\u1ee9 Ba tu\\\\u1ea7n sau l\\\\u00e0 ng\\\\u00e0y 8 th\\\\u00e1ng 7 n\\\\u0103m 2025. Anh mu\\\\u1ed1n \\\\u0111\\\\u1eb7t l\\\\u1ecbch d\\\\u1ecdn nh\\\\u00e0 v\\\\u00e0o l\\\\u00fac 11 gi\\\\u1edd s\\\\u00e1ng ng\\\\u00e0y 8 th\\\\u00e1ng 7 n\\\\u0103m 2025 t\\\\u1ea1i S\\\\u1ed1 1 V\\\\u00f5 V\\\\u0103n Ng\\\\u00e2n Th\\\\u1ee7 \\\\u0110\\\\u1ee9c trong 2 ti\\\\u1ebfng \\\\u0111\\\\u00fang kh\\\\u00f4ng \\\\u1ea1?\", \"timestamp\": \"2025-07-03T10:39:43.420791\"}, {\"type\": \"human\", \"content\": \"\\\\u0111uungs r\\\\u1ed3i \", \"timestamp\": \"2025-07-03T10:39:43.420796\"}, {\"type\": \"ai\", \"content\": \"\\\\u0110\\\\u1ec3 ho\\\\u00e0n t\\\\u1ea5t vi\\\\u1ec7c \\\\u0111\\\\u1eb7t l\\\\u1ecbch, t\\\\u00f4i c\\\\u1ea7n x\\\\u00e1c nh\\\\u1eadn l\\\\u1ea1i m\\\\u1ed9t s\\\\u1ed1 th\\\\u00f4ng tin. \\\\u0110\\\\u1ecba ch\\\\u1ec9 c\\\\u1ee7a anh l\\\\u00e0 S\\\\u1ed1 1 V\\\\u00f5 V\\\\u0103n Ng\\\\u00e2n, Th\\\\u1ee7 \\\\u0110\\\\u1ee9c, th\\\\u1eddi gian l\\\\u00e0 11 gi\\\\u1edd s\\\\u00e1ng ng\\\\u00e0y 8 th\\\\u00e1ng 7 n\\\\u0103m 2025, v\\\\u00e0 th\\\\u1eddi l\\\\u01b0\\\\u1ee3ng d\\\\u1ecdn d\\\\u1eb9p l\\\\u00e0 2 ti\\\\u1ebfng. Anh c\\\\u00f3 y\\\\u00eau c\\\\u1ea7u th\\\\u00eam d\\\\u1ecbch v\\\\u1ee5 n\\\\u00e0o kh\\\\u00e1c kh\\\\u00f4ng \\\\u1ea1?\", \"timestamp\": \"2025-07-03T10:39:43.420801\"}, {\"type\": \"human\", \"content\": \"kh\\\\u00f4ng c\\\\u1ea7n \\\\u0111\\\\u00e2u \", \"timestamp\": \"2025-07-03T10:39:43.420806\"}, {\"type\": \"ai\", \"content\": \"T\\\\u00f4i r\\\\u1ea5t ti\\\\u1ebfc, hi\\\\u1ec7n t\\\\u1ea1i t\\\\u00f4i kh\\\\u00f4ng th\\\\u1ec3 ho\\\\u00e0n th\\\\u00e0nh vi\\\\u1ec7c \\\\u0111\\\\u1eb7t l\\\\u1ecbch d\\\\u1ecdn nh\\\\u00e0 cho anh. Xin vui l\\\\u00f2ng cung c\\\\u1ea5p th\\\\u00f4ng tin chi ti\\\\u1ebft v\\\\u00e0 li\\\\u00ean h\\\\u1ec7 v\\\\u1edbi \\\\u0111\\\\u1ed9i ng\\\\u0169 h\\\\u1ed7 tr\\\\u1ee3 c\\\\u1ee7a ch\\\\u00fang t\\\\u00f4i \\\\u0111\\\\u1ec3 \\\\u0111\\\\u01b0\\\\u1ee3c h\\\\u1ed7 tr\\\\u1ee3 th\\\\u00eam.\", \"timestamp\": \"2025-07-03T10:39:43.420811\"}]'"
      ]
     },
     "execution_count": 17,
     "metadata": {},
     "output_type": "execute_result"
    }
   ],
   "source": [
    "conversation = redis_client.get('memory:qv5V9tZ80N1fApTkAAAZ')   \n",
    "conversation"
   ]
  },
  {
   "cell_type": "code",
   "execution_count": 18,
   "id": "6e1bac03",
   "metadata": {},
   "outputs": [],
   "source": [
    "import json \n",
    "with open(\"../src/MCP/schema_summary.json\", \"r\") as f:\n",
    "    schema = json.load(f)\n"
   ]
  },
  {
   "cell_type": "code",
   "execution_count": 19,
   "id": "fbf8f6a2",
   "metadata": {},
   "outputs": [],
   "source": [
    "def get_prompt_conversation(conversation, schema):\n",
    "    \"\"\"Create a conversation prompt template with memory placeholder.\"\"\"\n",
    "    with open(\"../src/prompts/prompt_summary.md\", \"r\", encoding=\"utf-8\") as f:\n",
    "        system_prompt = f.read()\n",
    "        \n",
    "    prompt = f\"\"\"\n",
    "        {system_prompt}\n",
    "        The conversation:\n",
    "        {conversation}\n",
    "        Follow output by output_schema JSON schema:\n",
    "        {schema}\n",
    "\n",
    "\"\"\"\n",
    "    return prompt\n"
   ]
  },
  {
   "cell_type": "code",
   "execution_count": 20,
   "id": "0e123387",
   "metadata": {},
   "outputs": [
    {
     "name": "stderr",
     "output_type": "stream",
     "text": [
      "2025-07-14 10:26:10,248 - src.llms.openai - INFO - ✅ LLM invoked successfully with model: gpt-4o-mini\n"
     ]
    },
    {
     "name": "stdout",
     "output_type": "stream",
     "text": [
      "{\n",
      "    \"session_id\": \"1\",\n",
      "    \"summary\": {\n",
      "        \"address\": [\n",
      "            \"Số 1 Võ Văn Ngân, Thủ Đức\"\n",
      "        ],\n",
      "        \"date\": \"2025-07-03T10:39:43Z\",\n",
      "        \"service_type\": \"Đặt lịch đến nhà\",\n",
      "        \"summary_detail\": \"Người dùng muốn đặt lịch đến nhà vào lúc 11 giờ sáng ngày 8 tháng 7 năm 2025 tại địa chỉ Số 1 Võ Văn Ngân, Thủ Đức trong 2 tiếng. Không có yêu cầu dịch vụ nào khác.\"\n",
      "    }\n",
      "}\n"
     ]
    }
   ],
   "source": [
    "prompt = get_prompt_conversation(conversation, schema['output_schema'])\n",
    "response = llm.invoke(prompt)\n",
    "print(response.content)\n",
    "\n"
   ]
  },
  {
   "cell_type": "code",
   "execution_count": 21,
   "id": "1344ac82",
   "metadata": {},
   "outputs": [
    {
     "data": {
      "text/plain": [
       "'{\\n    \"session_id\": \"1\",\\n    \"summary\": {\\n        \"address\": [\\n            \"Số 1 Võ Văn Ngân, Thủ Đức\"\\n        ],\\n        \"date\": \"2025-07-03T10:39:43Z\",\\n        \"service_type\": \"Đặt lịch đến nhà\",\\n        \"summary_detail\": \"Người dùng muốn đặt lịch đến nhà vào lúc 11 giờ sáng ngày 8 tháng 7 năm 2025 tại địa chỉ Số 1 Võ Văn Ngân, Thủ Đức trong 2 tiếng. Không có yêu cầu dịch vụ nào khác.\"\\n    }\\n}'"
      ]
     },
     "execution_count": 21,
     "metadata": {},
     "output_type": "execute_result"
    }
   ],
   "source": [
    "rep = response.model_dump()['content']\n",
    "rep"
   ]
  },
  {
   "cell_type": "code",
   "execution_count": 22,
   "id": "ce1be824",
   "metadata": {},
   "outputs": [
    {
     "data": {
      "text/plain": [
       "{'session_id': '1',\n",
       " 'summary': {'address': ['Số 1 Võ Văn Ngân, Thủ Đức'],\n",
       "  'date': '2025-07-03T10:39:43Z',\n",
       "  'service_type': 'Đặt lịch đến nhà',\n",
       "  'summary_detail': 'Người dùng muốn đặt lịch đến nhà vào lúc 11 giờ sáng ngày 8 tháng 7 năm 2025 tại địa chỉ Số 1 Võ Văn Ngân, Thủ Đức trong 2 tiếng. Không có yêu cầu dịch vụ nào khác.'}}"
      ]
     },
     "execution_count": 22,
     "metadata": {},
     "output_type": "execute_result"
    }
   ],
   "source": [
    "data = json.loads(rep.strip().removeprefix(\"```json\\n\").removesuffix(\"```\"))\n",
    "data"
   ]
  },
  {
   "cell_type": "code",
   "execution_count": 47,
   "id": "9180c50b",
   "metadata": {},
   "outputs": [
    {
     "name": "stderr",
     "output_type": "stream",
     "text": [
      "2025-07-14 10:29:27,564 - src.utils.redis_client - INFO - ✅ ✅ Connected to Redis: True\n",
      "2025-07-14 10:29:27,569 - src.utils.redis_client - INFO - ✅ ✅ Redis connection: True\n",
      "2025-07-14 10:29:27,581 - src.utils.redis_client - INFO - ✅ 📋 Redis keys: ['memory:IUf4eLFXW8q72t8pAAAB', 'memory:promptfoo-test-session-823207f7-c471-4fc9-a6aa-2277ea5a7f52', 'memory:YuIgxUbJicq1X7gAAAAD', 'memory:promptfoo-test-session-342883a5-2adb-4c3a-8ee1-bf8ae045f8f9', 'memory:rI_eB5yruJkj5fy_AAAF', 'memory:promptfoo-test-session-cfcc57df-d8e8-4b6a-8d25-5abc5bb0704d', 'memory:Z1hqAIsDkd4gs0hAAABw', 'memory:O2mE2_QSPfwnYC0uAAAD', 'memory:6IlTwKyMwI-V0bDIAAAB', 'memory:IOLGVvZzEaiqpcrJAAAD', 'memory:vnydPWFTT_lZkzpCAAAD', 'memory:promptfoo-test-session-515366c4-09be-4ee7-84a6-c3af1cb23a15', 'memory:promptfoo-test-session-da830615-84c4-4dfd-9ec5-daf81ababbcb', 'memory:c_ShT4NdzlOSkf5yAAAB', 'memory:UKUw4Lcq2CKL0jJjAAAF', 'memory:j5MEsqcf7kXIso6nAAAL', 'memory:promptfoo-test-session-0fc6a8a7-171d-4f39-ae8a-196f89f4ba60', 'memory:T-3CZZjnhs2YjPK7AAAF', 'memory:R9rCJGzmx1iMhML9AAAT', 'memory:GUJxdinc3AQa9n_FAAAD', 'memory:G8yiOrF9x14DDFL8AAAx', 'memory:pfc9TdzZ1Yv1-r9FAAAB', 'memory:promptfoo-test-session-7c0d2054-9dba-490e-877c-c3b00ba93b2a', 'memory:promptfoo-test-session-4', 'memory:LrZDqnh_cHV4hhX7AAAF', 'memory:heLHppkHohFqTkikAAAP', 'memory:Dp4BbDxSvR1X8SV_AACE', 'memory:promptfoo-test-session-9b7343c9-1022-41e2-95f5-6b45dbe64662', 'memory:SacOoenDv0nKB7wwAAAF', 'memory:4Sd-H35BmxL_2xUSAAAX', 'memory:7L_OlPwMb6yOVN8DAAAD', 'memory:WJNKxM9p5HtDz0fLAACp', 'memory:njatZ8qVuZ03jLtkAAAN', 'memory:WvHKufhZfftOWudbAAAd', 'memory:GqRU9afGeG83n82LAAAB', 'memory:promptfoo-test-session-2cccac22-9d3e-43bf-84c7-c35f67e87fab', 'memory:FRTkeBK34C3SdOOsAAAB', 'memory:5zkTP7EOBMAkhUi9AAAB', 'memory:promptfoo-test-session-7d37a1fe-bcf3-4841-893a-6e7cafcdc5c3', 'memory:NMUa9rsPLiUTuidwAAAB', 'memory:Xgt-KrBx-_veYWS9AAAB', 'memory:test', 'memory:udyj0XJaxdKsKFjfAAAD', 'memory:promptfoo-test-session-2f474b6a-8d01-4e10-b7e6-d9556ba17cad', 'memory:O5OWDRtqSBdzbz7aAAA8', 'memory:g2XOnMigSCqGVMs8AAAH', 'memory:promptfoo-test-session-40b841b1-67bd-4268-b8bf-5f7123988271', 'memory:iCsmXjzuidL4aQVfAAAF', 'memory:promptfoo-test-session-fc338ebc-b3ca-4472-9b23-1c864d5262d2', 'memory:cuKaIJ6dIDFXMFEKAAAP', 'memory:CMpeGqJ8rPpK9DKrAACH', 'memory:wOfVOvee392RAwJxAABw', 'memory:7dkZv7-4dLu2M_3OAAAP', 'memory:53wqReiD221iXDzCAAAD', 'memory:promptfoo-test-session-2a1e9ed0-603a-4802-a1b6-fd2c9726ae24', 'memory:promptfoo-test-session-3', 'memory:promptfoo-test-session-fd55fc0d-032f-4523-9413-9b3e8aa07120', 'memory:57hlKgFY5vmRLA7gAAAl', 'memory:promptfoo-test-session-bf7e9ddf-15db-4403-9944-35eef776e564', 'memory:4vwLXMpEf6LIl2K0AAAF', 'memory:promptfoo-test-session-ddb86426-42a5-4cc1-a66f-e5260dc65667', 'memory:MU3PZCx4Ogoqgp12AAAr', 'memory:ezqhrwlg67T-6ocNAAAR', 'memory:mU1E2x6F_TbytwwiAAA0', 'memory:9NHyDswOya0CkQhqAAAH', 'memory:rGGMuIUJ9v8188U4AAAB', 'memory:i1ExpUkMh4WDOZjDAAAD', 'memory:OV7x9j7S_cp23cgTAAAJ', 'memory:promptfoo-test-session-bddf973a-fc70-461d-a0f0-16591f463189', 'memory:0Br6YeeK9bQ-m1_YAABn', 'memory:promptfoo-test-session-f8fa1149-7f8b-497c-9230-592770bcbc26', 'memory:PrGGpqWMtWWGuUwgAAAB', 'memory:promptfoo-test-session-42a63b29-fd46-40dd-9f7a-06cf5b31b79b', 'memory:r7iXw99prS9ZeqdfAAAH', 'memory:W8wUALzfibFFP3LOAAAF', 'memory:RApuhBmIxFrgLRvrAAC6', 'memory:oO3yeA60uX3U3GtMAACJ', 'memory:pE0CN9tLdfaPdorKAACS', 'memory:promptfoo-test-session-12f25736-7e71-437f-8b5c-84901ca46096', 'memory:jJc-qG2X-Tx-N4k7AAAL', 'memory:hz66ymJMVNhk8-4bAAAB', 'memory:II8ic8ZDl2iLlAbJAABu', 'memory:22UT80OgDhAoQfBUAAAF', 'memory:IjB77Zz_d2Mui356AABX', 'memory:promptfoo-test-session-a6068d0e-c3fa-4e54-932c-c76d0a9ce05f', 'memory:Gxy06sRO4IyhfAjgAAAB', 'memory:6cYXPjhslKFBYDngAAAs', 'memory:7sN5QOJhdMsxpnaFAAAN', 'memory:9oNbDyF6FmWTSbNIAAAB', 'memory:promptfoo-test-session-1', 'memory:MYJzqpTmMappaimcAAAF', 'memory:YgmiLvYCQF-vYUVSAAAB', 'memory:XTIjRxTnhqdmaWjaAADL', 'memory:h4jFPatfUhR61jhXAAAT', 'memory:QkdZ7artgIjwBUpTAAAB', 'memory:zc_TjANtZaljhbZ5AAAB', 'memory:promptfoo-test-session-ff188cd1-38a7-49a0-acbb-372a63217e48', 'memory:9oXETPswQBPsaOMhAAAB', 'memory:eYaupphdwsv59THNAAAB', 'memory:vd58544mUHFG0PF_AAAD', 'memory:U5svXACcGpT_3fXpAAAH', 'memory:NwXAgT9kYOL9fi7QAAAB', 'memory:promptfoo-test-session-260924ec-072a-4367-86c4-40aa4c2087fb', 'memory:promptfoo-test-session-9dcfd97e-19e2-4d69-9fa2-e57d8bedf1e3', 'memory:promptfoo-test-session-4fb8b20b-1ce9-4ec2-87b4-c4dedbe6fb5a', 'memory:oXJYdlIjct8uz6cLAAAH', 'memory:27RiJch76c0cdz3MAAAD', 'memory:-VD9xq7sdbHTII8fAAAB', 'memory:CAYl3Le6YY2cHBEZAAAB', 'memory:8KKNkBGB8YQ4zLDFAAAF', 'memory:cWhFZlHjyKINgfeEAAAD', 'memory:9-JerODwnJr7Zw8kAADG', 'memory:VxA1WE4hjWuGLH4cAAAD', 'memory:VfU83aqLeoZ3Rf5yAACw', 'memory:Sooc2LhCdl9or5msAAAR', 'memory:promptfoo-test-session-3bd51727-6b86-4c56-9374-d64660c4ef3f', 'memory:mC7jsGb4gR4yOL09AABE', 'memory:TPnIEeC2mRD7zq7xAACC', 'memory:promptfoo-test-session-08c64260-3637-42ad-9be1-0d014187e08c', 'memory:25dXbZNNEqwoFfZXAAAD', 'memory:promptfoo-test-session-d6e1e8ad-5a90-4ed3-96f4-a717c9f76436', 'memory:iqLjRu4Dx9mmx5ZnAAAB', 'memory:promptfoo-test-session-da84bfe2-c726-45e5-95b7-55c0e29eb2cf', 'memory:Zg-Bw8_4OKSI0ypIAAB6', 'memory:promptfoo-test-session-051ac134-9a54-45bc-a6b6-748e80f9936d', 'memory:_c45OtP5yOS7vCQ_AAAX', 'memory:rCaQdiXbpTV4uVpLAAAB', 'memory:0x9eTuhBxVdURv7BAACa', 'memory:PqwfvgQ7F5ShXliJAAAH', 'memory:promptfoo-test-session-48c2289b-ce0b-400a-9aa5-4001b649fb50', 'memory:promptfoo-test-session-5522b86c-54b4-42bc-b575-817dffa4f7e7', 'memory:promptfoo-test-session-4f8cc946-e3e2-4749-89ef-4323d1c86c68', 'memory:MY7gmFyCNxwAkZL0AAAG', 'memory:M3tDoSqQLcpvZocBAADU', 'memory:WjU_ZgXRYCXeK1onAAAB', 'memory:promptfoo-test-session-453ad180-9239-4aaf-9e05-73bedc0aa95c', 'memory:xlzQVNTy5AhsIayHAACy', 'memory:zLtTp0hWmfkw8wjmAAAF', 'memory:G1hkAduXA8Bf6ZXRAAAH', 'memory:promptfoo-test-session-df8abf6a-e7ca-48c1-908e-5fd0111d91e3', 'memory:cjHtuLVO3JB3dvn3AAAm', 'memory:gVovz4Yrp2by0_owAAAB', 'memory:-mtujRDuHQzBpQHBAAAB', 'memory:qbxmy2RORr4Rv8PUAAAX', 'memory:IVdOIH3tev747PbKAAAJ', 'memory:ixgZhLOybvQTpM58AAAB', 'memory:qhdtQFtP8ZdrgsuMAABb', 'memory:hj6rUG-GbEnMVkmmAAAB', 'memory:x2plljnezd6PwlFiAAAB', 'memory:promptfoo-test-session-6f469f32-ea69-4f1b-8b2f-7ae9de091b51', 'memory:uf-3hS_G2gHpqEqiAAAX', 'memory:promptfoo-test-session-14b27afd-4bc1-42f0-974d-2060fc720be1', 'memory:VK7ttZ5gMBLEFkcFAAAB', 'memory:Pt9lizOA72UGKa9dAAA2', 'memory:K2kaD0ktk5dY1qitAAA2', 'memory:ZfvXYZCsMkC9slbzAAAD', 'memory:9IP_nmJzaQ0Ey7w0AAAB', 'memory:promptfoo-test-session-786e5e36-5b71-4e1a-a2f7-666a02f2f1c7', 'memory:bKM9-3HI_vwRdbs_AAAi', 'memory:EIHW7jEEzSVsQ1_7AAAG', 'memory:Km6i-Z00Qt06JBNWAAAB', 'memory:rmCqnmwJYa_sMsxSAABR', 'memory:pv08Cs5rRUrJPoBGAAAB', 'memory:promptfoo-test-session-1c570132-7487-4a93-a236-b88bf38675a0', 'memory:promptfoo-test-session-588f256b-af9e-4442-9f65-07a5f988dab6', 'memory:vAKcrdWD1g3P8pL2AAAu', 'memory:FUXu_VRu2zgmW9uaAAAH', 'memory:s5TkRPT5hdhaygfPAAAF', 'memory:VAG0OQrc9c47ShBXAABj', 'memory:qg6HhwrfhFcbefQmAAAl', 'memory:mWXxrbkongA5wI4oAACo', 'memory:xu3qmpYIfe0O9F7rAAAB', 'memory:iv6joWV1KTY7Hj_9AAAD', 'memory:5kQPm6kyMhS4TXJJAADN', 'memory:lkMrRCzkoCpi1S0HAAAF', 'memory:promptfoo-test-session-15a3d8ac-e694-499e-9e05-a6988527ebb5', 'memory:oZltFJXFFnx1LO8JAAAB', 'memory:jCQ_HAE6beUueEOwAAAL', 'memory:SP6ZZEr095CwOYxYAAC4', 'memory:vDmqmTmt1W_udRYaAAAF', 'memory:LTJYiytOGxLKl3o3AAAb', 'memory:promptfoo-test-session-8f92cfcf-e673-4a87-a3ea-b541a5c725f7', 'memory:ph5xoxQkD6wnbpgyAAAD', 'memory:promptfoo-test-session-7b548c02-b6ac-4557-8590-bfb4547ca9dd', 'memory:promptfoo-test-session-8fff46c7-4326-4d83-86c2-9ee7e920013e', 'memory:uAVpW3jdyW8JTbKDAAAD', 'memory:lRrFde5o-cYRyf7yAAAB', 'memory:A_FlrrdzGvZEKi3wAABs', 'memory:promptfoo-test-session-8e39edea-48c5-42dd-886f-de8de7b501a5', 'memory:promptfoo-test-session-8a0ca637-1c3e-43dd-9266-5dc4a6361416', 'memory:FxUMV7BC1z37yPuMAAAa', 'memory:Yf9hWpXWxc47tXI7AABp', 'memory:iFKBwui0SOR2gEtUAADA', 'memory:llxi5tYxpUWnokpPAAAN', 'memory:8FhNnQulMT9lEE7gAAAD', 'memory:promptfoo-test-session-112dd8c9-09bc-4ac6-a925-92103a52a534', 'memory:promptfoo-test-session-f6276e8c-a55e-4444-b0e1-551d771a42b3', 'memory:S1LZTFbLgUpym0pzAAAF', 'memory:s1leipfPJFrtNv5fAACT', 'memory:PRQSRc_7DdOdGJQkAACN', 'memory:promptfoo-test-session-698b5b73-1007-46ef-a1c8-27771716cfa3', 'memory:promptfoo-test-session-ac97b6dc-0948-4ed3-9f2a-c35e3231bf7b', 'memory:AGrh6JNf4MZlI0kYAACs', 'memory:D5F9C3LOLB8EMcM4AAAB', 'memory:HFp1IwB1ZlaeHoKWAAAN', 'memory:promptfoo-test-session-ed8de917-a80c-4ce1-b803-3a9639310abb', 'memory:iIF5ZHFyaaGKrG__AAAY', 'memory:aPDXVViFhwx6mEfOAABK', 'memory:promptfoo-test-session-a033d340-5877-48ba-a07f-f8072fcc8cd6', 'memory:Qy7Rdr9CIH-mawFqAAAD', 'memory:LG16kGdKY1Cj0c_aAAAB', 'memory:WckcPMnl84Al0HxGAAAB', 'memory:jYAmnNa_mJPaawQoAAAF', 'memory:promptfoo-test-session-7a9dbf05-7088-4c34-94bb-8d790dffa7bc', 'memory:JobPDWFSliqSLR4tAAAB', 'memory:eekfVmK7twovk81uAAAr', 'memory:VD9kuP7ao7FcJU9mAAAL', 'memory:o373hYq8KzSNKBhbAAA4', 'memory:p0qxEQlfagpOc3ZyAAAB', 'memory:bnDF9VcbYqm7Gc2QAAAB', 'memory:HDstdTjdkRm-tNHUAAAH', 'memory:cy7hrQf1D1ChNEqiAAAB', 'memory:n0ASyl5kvmq4G7maAAAB', 'memory:PRG60HBp5D9F-hCvAAAf', 'memory:riCj1DrE7dnXUs-TAAAB', 'memory:promptfoo-test-session-aa495168-3bd9-441a-a447-e35a3df74a0b', 'memory:promptfoo-test-session-a6d3c5f0-e319-47c6-9158-4e7b9b10efd0', 'memory:2104sRNhxdNK7rx_AAAR', 'memory:8n7yceROD2ggIjtIAADT', 'memory:dz01nv-tf7G8N9pTAAAB', 'memory:qIo-n4-z-Y7JoN7qAACO', 'memory:rxsPLSKespVvJSR_AADQ', 'memory:cMaX71OREF_Rx8odAAAD', 'memory:9WotHUK3nm8kV20zAAAI', 'memory:promptfoo-test-session-b49f5518-38f2-410b-9671-57c1f8887e4e', 'memory:b_KFVEZMrKASu5-JAAAB', 'memory:promptfoo-test-session-afb744f9-ff98-493d-b038-6b1034992269', 'memory:ZZyvUjnCNr5UyfaGAAAb', 'memory:rfQ8C2Uw-jNwB_YWAABO', 'memory:promptfoo-test-session-bdc607c1-dcab-4c1c-8d51-df2c0e208121', 'memory:7-Dv71Icai9hP2pVAAAD', 'memory:VhSXzh1R4a-tJyp_AAAJ', 'memory:promptfoo-test-session-08d0ac7b-79fd-46af-818e-b072ba9897df', 'memory:V9hRz5cFlaBvHB2xAAAB', 'memory:promptfoo-test-session-27ba1c36-4819-4fa9-bdd6-9d33428e9421', 'memory:txwG3zaZDv-oKc__AAAB', 'memory:FXf6hTW0zgIzVU8mAAAB', 'memory:promptfoo-test-session-1c23ac6d-dc93-4ecd-b5a3-dd9da1fabfb2', 'memory:FtZW1d_ImjBOzNBrAAAF', 'memory:HYb2VWNGmfoFOP9vAACi', 'memory:5EHIZJmEkRGEUeuxAABu', 'memory:promptfoo-test-session-2ddde3f7-ae9d-4a62-9d56-e804dcf79ffb', 'memory:rSwfkPgT8qDOL3BEAAAB', 'memory:promptfoo-test-session-768b34ce-838c-47d1-a079-37e1524c02f8', 'memory:JMceZwGFHJgH3517AAAB', 'memory:gModMYvnCn8Nj3D3AAAD', 'memory:E9YlYNlA-_3NgrsSAAAB', 'memory:promptfoo-test-session-86e8be39-6051-4aed-971e-261226419a7e', 'memory:u8rdEqy_PmvQLFfVAACX', 'memory:LQInIYYoYllkkww1AAAB', 'memory:promptfoo-test-session-9b068803-1587-477f-91d3-5bd6e665925e', 'memory:3h1US-GmM6bb2-YFAAAF', 'memory:H0P2VM4LkRwKtJM7AAAB', 'memory:promptfoo-test-session-9d4dbda1-5c2c-4db0-a6a1-374876226b91', 'memory:GHr83zExi3dY9Y8DAABl', 'memory:IzQg6gy8UYTYzfo8AAAB', 'memory:4jKJMex7QJ7I4T5oAAAB', 'memory:r7-Ti_6rpvao-fGpAAAa', 'memory:FbDH60PFQgVByqGzAACf', 'memory:XWD1oN3cQslLrXXNAAAB', 'memory:lDTe-iwyUWZQ8gg4AAAo', 'memory:promptfoo-test-session-d946d5f9-a2a6-4097-8ead-0b8858ce3d55', 'memory:bYTLtq6rBaxIvXQZAADP', 'memory:promptfoo-test-session-019bcf1d-2443-4971-97f6-aa16847b51ff', 'memory:fpT-3s8SvZnIOqyYAAAB', 'memory:promptfoo-test-session-48b0c491-64cc-4d66-9e7f-b91e80635136', 'memory:1q_mWiOvbrxNS-HkAACk', 'memory:xq7pawjflAaur7R5AAAB', 'memory:Ke3xv-_96KLU1roiAAAJ', 'memory:PeZjaBUnxSSfNoVXAAAD', 'memory:dXCkDCVGKhDBIElFAAAB', 'memory:promptfoo-test-session-ad2e8969-30d5-484d-a4d4-8bedd34f9647', 'memory:Bv9gkWffta8FGTYQAAAB', 'memory:promptfoo-test-session-07c8d0aa-3a3c-4e13-9b34-a62308a00419', 'memory:sQY1pV5mL0VSZs0iAAAB', 'memory:G8OmrDWHdbN6AQenAAA1', 'memory:2uGgiGD7atiMf2fPAAA-', 'memory:elTMUewJAJwMx4UPAAAY', 'memory:ebtMnF4w8f5ZDnFMAADR', 'memory:I_7YcHMth_RnRRvtAAAB', 'memory:promptfoo-test-session-0b077b43-6048-480d-800f-739b94288c97', 'memory:N1_y9-IGltRNfYGtAAAN', 'memory:RXMaVBzfkdk5xwCpAAAB', 'memory:v1SGoRtRfYg72R-oAAAB', 'memory:husagRqxwWCCjkTDAAAP', 'memory:tUrOryfG0BkRqPDoAAAF', 'memory:2Vm4bLzFwUbjHZYTAAAB', 'memory:promptfoo-test-session-30c51e85-85c8-425e-92dc-83c0f23c1245', 'memory:fSMUqBgKHB-Nmzl8AAAD', 'memory:1ChGZbaRxoCtZwBbAABf', 'memory:promptfoo-test-session-b6138925-9b57-4aa7-8580-19c73c08117b', 'memory:1j3pYkLnhbERsLgXAAAD', 'memory:I_ltmXLeS_Srhz75AAAB', 'memory:CyegtEmSn1GmGWKjAAAB', 'memory:rApAtgy297T0Q26jAAAD', 'memory:YqzuxJExF66xDyVdAAAf', 'memory:promptfoo-test-session-b40c722f-94d9-4173-829c-d7b17a931764', 'memory:quznRzyGKUGlMVIFAAAD', 'memory:GDWp1Y2prwF8UCTmAAAD', 'memory:M3C_2gs9Ea_-kfHOAAAF', 'memory:EXzGrV8DlOZg91WAAAAB', 'memory:promptfoo-test-session-0b662162-c6c9-478f-8bf7-5a2ec03a95d8', 'memory:ncj0xyLnEMUbpmxMAAAF', 'memory:gYdy0HmuBia-5y40AAAL', 'memory:paWMPI96ITB1g2kvAAAJ', 'memory:avmjN6gvwgsktrhdAAAB', 'memory:co4V6qdg9_4jduyTAAAp', 'memory:chPDGEOEwFdQPquQAAAV', 'memory:oRzP5erjkIEXzgSJAAAF', 'memory:bhblAB16QrbLDwYJAAAD', 'memory:vJwzovwBCu1ozTjOAAA6', 'memory:promptfoo-test-session-04a68a1e-38e4-4d3a-873e-a286fdb9772b', 'memory:promptfoo-test-session', 'memory:wkbXQ5ylSbugm0rlAAAP', 'memory:iTOqGCu0gH5ZqJXKAADF', 'memory:promptfoo-test-session-3652c1fa-e6ef-45d6-8822-dfc925010d93', 'memory:oQ8b4k5WKDVk4nQgAACP', 'memory:j6R3FbkUgQSw7f9oAAAR', 'memory:Js-BAz3THTdOpV9WAAAF', 'memory:promptfoo-test-session-8e988f16-4adb-4d0d-9e84-7ab0a0504eb9', 'memory:a_1EOrZeA4FAcl_9AAAB', 'memory:pcL0H5AK2IwQ9uVuAAAj', 'memory:promptfoo-test-session-e44815d3-2568-45cf-9815-13e8b36450f0', 'memory:promptfoo-test-session-77ff53aa-12d9-4da6-aa03-512cb2f546ee', 'memory:2ZqMxh-SkHWDtsp9AAAB', 'memory:rg-v7nTSEwYAIMUpAAAD', 'memory:br6Fyr_Lob3QLG2-AAAj', 'test', 'memory:UTi4EV6ZLg1H170dAAAB', 'memory:promptfoo-test-session-0eb83abd-b5ac-480f-a7de-0bdd49c037a5', 'memory:FmrNNbR58K6rd3ZHAACZ', 'memory:promptfoo-test-session-95a194e5-be0d-4139-b9bc-7ae2133707b3', 'memory:fS106XqFwTSIE0tSAAAC', 'memory:y2pp-a5utVq20ILJAAAB', 'memory:promptfoo-test-session-dd733272-9350-478e-8e83-b986f6e3f646', 'memory:GfCB0XeNTk9Ggdp2AAAg', 'memory:promptfoo-test-session-2616a5eb-e748-4dd6-a3ab-78e984f35ccd', 'memory:WJGSU6t2SyaGPWuXAAAf', 'memory:LyJpQLV_r3c2Lm1-AADK', 'memory:Qwvk-0go5NmNFNZ3AAAB', 'memory:OwXSYiW4WaUE0hcyAAAh', 'memory:promptfoo-test-session-c145dd46-79b0-418c-8348-98caeaaac27e', 'memory:promptfoo-test-session-dd6ae0d8-47f1-48b5-9422-fde41f90d1db', 'memory:3MfmU7B232vg7csEAAAo', 'memory:D4t13GZ_Id1scM1_AAAD', 'memory:promptfoo-test-session-4ac88990-f232-4af3-ac06-8ba3d1c955e2', 'memory:promptfoo-test-session-930216f6-584c-4e26-b85c-c07180c1d13e', 'memory:E1eIUmlP38N1pRQBAAAB', 'memory:qv5V9tZ80N1fApTkAAAZ', 'memory:VPXnp3kDYxXb640kAAAD', 'memory:promptfoo-test-session-68d1b2bc-012f-4c89-9a02-1cd238bfceb5', 'memory:promptfoo-test-session-d1c05c22-9fda-4d81-992f-faf0b6d3e9a3', 'memory:G8AAfcjc1YxIIZkqAAAH', 'memory:J7swxEM5k6sFW_CDAAAB', 'memory:kJwqLhPB0mZD-lsrAAAB', 'memory:promptfoo-test-session-12dc8d1b-a9f5-483d-8b03-5edc113d3635', 'memory:6Fumh7rPCLg2tqjJAACQ', 'memory:nzgU8-k37Picf56_AAAV', 'memory:S43wpXmL3yTOA8wEAAAD', 'memory:PVmfLG9Z9jyAu6a3AAAD', 'memory:SFA2lL9nRcwHIza1AAAF', 'memory:promptfoo-test-session-42604e74-15d2-486f-b621-c0f1e829bbef', 'memory:7yRqlpKl4xmcot7JAAAt', 'memory:ihp-OXW8IEsTiroSAAAB', 'memory:XKJ0uUYeG7BJmFk6AAAF', 'memory:DTWqUqua4kwIKRI-AAAe', 'memory:d_9L7XfnIDvAnCrmAAAB', 'memory:hLq3w1PFFfPCzXx2AAAF', 'memory:hc4dxBy-LDTDEiKaAAAD', 'memory:HB7E6l02X5myIch3AAAT', 'memory:diEgS-cJnVMgT7pXAAAk', 'memory:4MhROPRBw3t0aAf8AAAD']\n",
      "2025-07-14 10:29:27,587 - src.utils.redis_client - INFO - ✅ 💬 Chat history keys: []\n",
      "2025-07-14 10:29:27,593 - src.utils.redis_client - INFO - ✅ 🧠 Redis memory: {'used_memory': 2186712, 'used_memory_human': '2.09M', 'used_memory_rss': 12451840, 'used_memory_rss_human': '11.88M', 'used_memory_peak': 2210416, 'used_memory_peak_human': '2.11M', 'used_memory_peak_perc': '98.93%', 'used_memory_overhead': 966224, 'used_memory_startup': 946160, 'used_memory_dataset': 1220488, 'used_memory_dataset_perc': '98.38%', 'allocator_allocated': 2760392, 'allocator_active': 3190784, 'allocator_resident': 18083840, 'allocator_muzzy': 0, 'total_system_memory': 404269940736, 'total_system_memory_human': '376.51G', 'used_memory_lua': 31744, 'used_memory_vm_eval': 31744, 'used_memory_lua_human': '31.00K', 'used_memory_scripts_eval': 0, 'number_of_cached_scripts': 0, 'number_of_functions': 0, 'number_of_libraries': 0, 'used_memory_vm_functions': 32768, 'used_memory_vm_total': 64512, 'used_memory_vm_total_human': '63.00K', 'used_memory_functions': 192, 'used_memory_scripts': 192, 'used_memory_scripts_human': '192B', 'maxmemory': 0, 'maxmemory_human': '0B', 'maxmemory_policy': 'noeviction', 'allocator_frag_ratio': 1.15, 'allocator_frag_bytes': 354360, 'allocator_rss_ratio': 5.67, 'allocator_rss_bytes': 14893056, 'rss_overhead_ratio': 0.69, 'rss_overhead_bytes': -5632000, 'mem_fragmentation_ratio': 5.79, 'mem_fragmentation_bytes': 10301160, 'mem_not_counted_for_evict': 0, 'mem_replication_backlog': 0, 'mem_total_replication_buffers': 0, 'mem_clients_slaves': 0, 'mem_clients_normal': 0, 'mem_cluster_links': 0, 'mem_aof_buffer': 0, 'mem_allocator': 'jemalloc-5.3.0', 'mem_overhead_db_hashtable_rehashing': 0, 'active_defrag_running': 0, 'lazyfree_pending_objects': 0, 'lazyfreed_objects': 0}\n"
     ]
    }
   ],
   "source": [
    "import redis\n",
    "import os\n",
    "import sys\n",
    "sys.path.append(os.path.abspath('..'))\n",
    "from src.utils.redis_client import RedisClient\n",
    "from src.utils.logger import Logger\n",
    "logger = Logger(__name__)\n",
    "from dotenv import load_dotenv\n",
    "load_dotenv()\n",
    "\n",
    "from src.llms.openai import LLMOpenAI\n",
    "\n",
    "\n",
    "llm = LLMOpenAI()\n",
    "redis_client = RedisClient()\n",
    "redis_client.debug_redis()\n",
    "\n",
    "from pydantic import BaseModel\n",
    "from langchain_core.memory import BaseMemory\n",
    "from pydantic import Field,PrivateAttr\n",
    "from typing import List, Dict, Any\n",
    "import json \n",
    "class SummaryConversation(BaseModel):\n",
    "    llm: Any = Field(...)\n",
    "    session_ids: list[str] = Field(...)\n",
    "    max_token_limit: int = Field(default=150, description=\"Maximum number of tokens for the summary\")\n",
    "    \n",
    "    def __init__(self, **kwargs):\n",
    "        super().__init__(**kwargs)\n",
    "        \n",
    "    def get_conversation(self,**kwargs):\n",
    "        conversation = [redis_client.get(f'{session_id}') for session_id in self.session_ids]\n",
    "        return conversation\n",
    "    \n",
    "    def get_output_schema(self, schema_path: str):\n",
    "        import json\n",
    "        with open(schema_path, \"r\") as f:\n",
    "            schema = json.load(f)\n",
    "        return schema['output_schema']\n",
    "    \n",
    "    def create_prompt(self, schema):\n",
    "        conversation = [self.get_conversation()]\n",
    "        \"\"\"Create a conversation prompt template with memory placeholder.\"\"\"\n",
    "        with open(\"../src/prompts/prompt_summary.md\", \"r\", encoding=\"utf-8\") as f:\n",
    "            system_prompt = f.read()\n",
    "        \n",
    "        prompt = f\"\"\"\n",
    "            {system_prompt}\n",
    "            The conversation:\n",
    "            {self.session_ids}\n",
    "            {conversation}\n",
    "            Follow output by output_schema JSON schema:\n",
    "            {schema}\n",
    "    \"\"\"\n",
    "        return prompt\n",
    "    \n",
    "    def summary_llm(self, **kwargs):\n",
    "        schema = self.get_output_schema(\"../src/MCP/schema_summary.json\")\n",
    "        prompt = self.create_prompt(schema)\n",
    "        response = self.llm.invoke(prompt).model_dump()['content']\n",
    "        response = response.strip().removeprefix(\"```json\\n\").removesuffix(\"```\")\n",
    "        return json.loads(response)\n"
   ]
  },
  {
   "cell_type": "code",
   "execution_count": 49,
   "id": "0d65d5c9",
   "metadata": {},
   "outputs": [
    {
     "name": "stderr",
     "output_type": "stream",
     "text": [
      "2025-07-14 10:29:39,963 - src.llms.openai - INFO - ✅ LLM invoked successfully with model: gpt-4o-mini\n"
     ]
    },
    {
     "data": {
      "text/plain": [
       "{'session_id': 'memory:promptfoo-test-session-342883a5-2adb-4c3a-8ee1-bf8ae045f8f9',\n",
       " 'summary': {'address': ['12 Trần Não, Quận 2, Hồ Chí Minh',\n",
       "   '1 Hoàng Hoa Thám, Quận Tân Bình, Thành phố Hồ Chí Minh'],\n",
       "  'date': '2025-06-27T08:55:06Z',\n",
       "  'service_type': 'Dịch vụ dọn dẹp nhà',\n",
       "  'summary_detail': 'Người dùng đã yêu cầu đặt dịch vụ dọn dẹp nhà vào lúc 10 giờ sáng ngày mai tại địa chỉ 12 Trần Não, Quận 2, Hồ Chí Minh. Sau đó, có một yêu cầu khác cho dịch vụ dọn dẹp tại địa chỉ 1 Hoàng Hoa Thám, Quận Tân Bình, nhưng không thể hoàn tất ngay lập tức do sự cố kỹ thuật.'}}"
      ]
     },
     "execution_count": 49,
     "metadata": {},
     "output_type": "execute_result"
    }
   ],
   "source": [
    "sessions = list_keys_memory[:5]\n",
    "SummaryConversation(\n",
    "    llm=llm, \n",
    "    session_ids=sessions).summary_llm()"
   ]
  }
 ],
 "metadata": {
  "kernelspec": {
   "display_name": "Python 3",
   "language": "python",
   "name": "python3"
  },
  "language_info": {
   "codemirror_mode": {
    "name": "ipython",
    "version": 3
   },
   "file_extension": ".py",
   "mimetype": "text/x-python",
   "name": "python",
   "nbconvert_exporter": "python",
   "pygments_lexer": "ipython3",
   "version": "3.10.12"
  }
 },
 "nbformat": 4,
 "nbformat_minor": 5
}
